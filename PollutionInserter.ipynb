{
 "cells": [
  {
   "cell_type": "code",
   "execution_count": 1,
   "metadata": {},
   "outputs": [
    {
     "ename": "ImportError",
     "evalue": "attempted relative import with no known parent package",
     "output_type": "error",
     "traceback": [
      "\u001b[0;31m---------------------------------------------------------------------------\u001b[0m",
      "\u001b[0;31mImportError\u001b[0m                               Traceback (most recent call last)",
      "\u001b[1;32m/code/inserters/PollutionInserter.ipynb Cell 1'\u001b[0m in \u001b[0;36m<cell line: 2>\u001b[0;34m()\u001b[0m\n\u001b[1;32m      <a href='vscode-notebook-cell://attached-container%2B7b22636f6e7461696e65724e616d65223a222f54535f417070227d/code/inserters/PollutionInserter.ipynb#ch0000000vscode-remote?line=0'>1</a>\u001b[0m \u001b[39mimport\u001b[39;00m \u001b[39mpandas\u001b[39;00m \u001b[39mas\u001b[39;00m \u001b[39mpd\u001b[39;00m\n\u001b[0;32m----> <a href='vscode-notebook-cell://attached-container%2B7b22636f6e7461696e65724e616d65223a222f54535f417070227d/code/inserters/PollutionInserter.ipynb#ch0000000vscode-remote?line=1'>2</a>\u001b[0m \u001b[39mfrom\u001b[39;00m \u001b[39m.\u001b[39;00m\u001b[39m.\u001b[39;00m\u001b[39mcore\u001b[39;00m\u001b[39m.\u001b[39;00m\u001b[39mobjects\u001b[39;00m\u001b[39m.\u001b[39;00m\u001b[39mTimestamp\u001b[39;00m \u001b[39mimport\u001b[39;00m Timestamp\n\u001b[1;32m      <a href='vscode-notebook-cell://attached-container%2B7b22636f6e7461696e65724e616d65223a222f54535f417070227d/code/inserters/PollutionInserter.ipynb#ch0000000vscode-remote?line=2'>3</a>\u001b[0m \u001b[39mfrom\u001b[39;00m \u001b[39m.\u001b[39;00m\u001b[39m.\u001b[39;00m\u001b[39mcore\u001b[39;00m\u001b[39m.\u001b[39;00m\u001b[39mobjects\u001b[39;00m\u001b[39m.\u001b[39;00m\u001b[39mpollution\u001b[39;00m\u001b[39m.\u001b[39;00m\u001b[39mCO2\u001b[39;00m \u001b[39mimport\u001b[39;00m CO2\n\u001b[1;32m      <a href='vscode-notebook-cell://attached-container%2B7b22636f6e7461696e65724e616d65223a222f54535f417070227d/code/inserters/PollutionInserter.ipynb#ch0000000vscode-remote?line=3'>4</a>\u001b[0m \u001b[39mfrom\u001b[39;00m \u001b[39m.\u001b[39;00m\u001b[39m.\u001b[39;00m\u001b[39mcore\u001b[39;00m\u001b[39m.\u001b[39;00m\u001b[39mobjects\u001b[39;00m\u001b[39m.\u001b[39;00m\u001b[39mpollution\u001b[39;00m\u001b[39m.\u001b[39;00m\u001b[39mHumidity\u001b[39;00m \u001b[39mimport\u001b[39;00m Humidity\n",
      "\u001b[0;31mImportError\u001b[0m: attempted relative import with no known parent package"
     ]
    }
   ],
   "source": [
    "\n",
    "import pandas as pd\n",
    "from core.objects.Timestamp import Timestamp\n",
    "from core.objects.pollution.CO2 import CO2\n",
    "from core.objects.pollution.Humidity import Humidity\n",
    "from core.objects.pollution.Pressure import Pressure\n",
    "from core.objects.pollution.PM25 import PM25\n",
    "from core.objects.pollution.HealthIndex import HealthIndex\n",
    "from core.objects.pollution.Temperature import Temperature\n",
    "from core.utils.TimestampConverter import ConvertDateTimeToTimestamp\n",
    "\n",
    "data = pd.read_csv(\"data/pollution/Piccadilly_Hammersmith-ManorHouse.csv\")\n",
    "\n",
    "data = data.reset_index()  # make sure indexes pair with number of rows\n",
    "\n",
    "TubeLine = 'P'\n",
    "InsertDataToDB = False #Only set to true once file has been run, the TimeStamps DataFrame looks correct and no errors are thrown\n",
    "\n",
    "PollutionData = pd.DataFrame()\n",
    "PollutionData['Timestamp'] = data[' Date'] + ' ' + data[' Time']\n",
    "PollutionData['PM25'] = data[' PM2.5']\n",
    "PollutionData['Humidity'] = data[' Humidity']\n",
    "PollutionData['Temperature'] = data[' Temp.']\n",
    "PollutionData['CO2'] = data[' CO2']\n",
    "PollutionData['Pressure'] = data[' Baro']\n",
    "PollutionData['HealthIndex'] = data[' Health Index']\n",
    "\n",
    "for index, row in PollutionData.iterrows():\n",
    "\n",
    "    TSData = Timestamp.GetClosest(ConvertDateTimeToTimestamp(row['Timestamp']))\n",
    "    if (TSData == None):\n",
    "        continue;\n",
    "\n",
    "    TSid = TSData[0]\n",
    "\n",
    "    co2 = CO2(TSid, row['CO2'])\n",
    "    if InsertDataToDB:\n",
    "        co2.insert()\n",
    "\n",
    "    pm25 = PM25(TSid, row['PM25'])\n",
    "    if InsertDataToDB:\n",
    "        pm25.insert()\n",
    "\n",
    "    humidity = Humidity(TSid, row['Humidity'])\n",
    "    if InsertDataToDB:\n",
    "        humidity.insert()\n",
    "\n",
    "    temp = Temperature(TSid, row['Temperature'])\n",
    "    if InsertDataToDB:\n",
    "        temp.insert()\n",
    "\n",
    "    pressure = Pressure(TSid, row['Pressure'])\n",
    "    if InsertDataToDB:\n",
    "        pressure.insert()\n",
    "\n",
    "    HI = HealthIndex(TSid, row['HealthIndex'])\n",
    "    if InsertDataToDB:\n",
    "        HI.insert()"
   ]
  }
 ],
 "metadata": {
  "interpreter": {
   "hash": "949777d72b0d2535278d3dc13498b2535136f6dfe0678499012e853ee9abcab1"
  },
  "kernelspec": {
   "display_name": "Python 3.8.13 64-bit",
   "language": "python",
   "name": "python3"
  },
  "language_info": {
   "codemirror_mode": {
    "name": "ipython",
    "version": 3
   },
   "file_extension": ".py",
   "mimetype": "text/x-python",
   "name": "python",
   "nbconvert_exporter": "python",
   "pygments_lexer": "ipython3",
   "version": "3.8.13"
  },
  "orig_nbformat": 4
 },
 "nbformat": 4,
 "nbformat_minor": 2
}
