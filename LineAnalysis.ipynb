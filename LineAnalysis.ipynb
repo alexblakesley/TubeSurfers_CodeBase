{
 "cells": [
  {
   "cell_type": "code",
   "execution_count": 16,
   "metadata": {},
   "outputs": [
    {
     "ename": "ValueError",
     "evalue": "Shape of passed values is (2, 1), indices imply (2, 13)",
     "output_type": "error",
     "traceback": [
      "\u001b[0;31m---------------------------------------------------------------------------\u001b[0m",
      "\u001b[0;31mValueError\u001b[0m                                Traceback (most recent call last)",
      "File \u001b[0;32m~/opt/anaconda3/envs/TubeSurfersEnv/lib/python3.8/site-packages/pandas/core/internals/managers.py:1675\u001b[0m, in \u001b[0;36mcreate_block_manager_from_blocks\u001b[0;34m(blocks, axes)\u001b[0m\n\u001b[1;32m   1670\u001b[0m     \u001b[39melse\u001b[39;00m:\n\u001b[1;32m   1671\u001b[0m         \u001b[39m# It's OK if a single block is passed as values, its placement\u001b[39;00m\n\u001b[1;32m   1672\u001b[0m         \u001b[39m# is basically \"all items\", but if there're many, don't bother\u001b[39;00m\n\u001b[1;32m   1673\u001b[0m         \u001b[39m# converting, it's an error anyway.\u001b[39;00m\n\u001b[1;32m   1674\u001b[0m         blocks \u001b[39m=\u001b[39m [\n\u001b[0;32m-> 1675\u001b[0m             make_block(\n\u001b[1;32m   1676\u001b[0m                 values\u001b[39m=\u001b[39;49mblocks[\u001b[39m0\u001b[39;49m], placement\u001b[39m=\u001b[39;49m\u001b[39mslice\u001b[39;49m(\u001b[39m0\u001b[39;49m, \u001b[39mlen\u001b[39;49m(axes[\u001b[39m0\u001b[39;49m])), ndim\u001b[39m=\u001b[39;49m\u001b[39m2\u001b[39;49m\n\u001b[1;32m   1677\u001b[0m             )\n\u001b[1;32m   1678\u001b[0m         ]\n\u001b[1;32m   1680\u001b[0m mgr \u001b[39m=\u001b[39m BlockManager(blocks, axes)\n",
      "File \u001b[0;32m~/opt/anaconda3/envs/TubeSurfersEnv/lib/python3.8/site-packages/pandas/core/internals/blocks.py:2742\u001b[0m, in \u001b[0;36mmake_block\u001b[0;34m(values, placement, klass, ndim, dtype)\u001b[0m\n\u001b[1;32m   2740\u001b[0m     values \u001b[39m=\u001b[39m DatetimeArray\u001b[39m.\u001b[39m_simple_new(values, dtype\u001b[39m=\u001b[39mdtype)\n\u001b[0;32m-> 2742\u001b[0m \u001b[39mreturn\u001b[39;00m klass(values, ndim\u001b[39m=\u001b[39;49mndim, placement\u001b[39m=\u001b[39;49mplacement)\n",
      "File \u001b[0;32m~/opt/anaconda3/envs/TubeSurfersEnv/lib/python3.8/site-packages/pandas/core/internals/blocks.py:142\u001b[0m, in \u001b[0;36mBlock.__init__\u001b[0;34m(self, values, placement, ndim)\u001b[0m\n\u001b[1;32m    141\u001b[0m \u001b[39mif\u001b[39;00m \u001b[39mself\u001b[39m\u001b[39m.\u001b[39m_validate_ndim \u001b[39mand\u001b[39;00m \u001b[39mself\u001b[39m\u001b[39m.\u001b[39mndim \u001b[39mand\u001b[39;00m \u001b[39mlen\u001b[39m(\u001b[39mself\u001b[39m\u001b[39m.\u001b[39mmgr_locs) \u001b[39m!=\u001b[39m \u001b[39mlen\u001b[39m(\u001b[39mself\u001b[39m\u001b[39m.\u001b[39mvalues):\n\u001b[0;32m--> 142\u001b[0m     \u001b[39mraise\u001b[39;00m \u001b[39mValueError\u001b[39;00m(\n\u001b[1;32m    143\u001b[0m         \u001b[39mf\u001b[39m\u001b[39m\"\u001b[39m\u001b[39mWrong number of items passed \u001b[39m\u001b[39m{\u001b[39;00m\u001b[39mlen\u001b[39m(\u001b[39mself\u001b[39m\u001b[39m.\u001b[39mvalues)\u001b[39m}\u001b[39;00m\u001b[39m, \u001b[39m\u001b[39m\"\u001b[39m\n\u001b[1;32m    144\u001b[0m         \u001b[39mf\u001b[39m\u001b[39m\"\u001b[39m\u001b[39mplacement implies \u001b[39m\u001b[39m{\u001b[39;00m\u001b[39mlen\u001b[39m(\u001b[39mself\u001b[39m\u001b[39m.\u001b[39mmgr_locs)\u001b[39m}\u001b[39;00m\u001b[39m\"\u001b[39m\n\u001b[1;32m    145\u001b[0m     )\n",
      "\u001b[0;31mValueError\u001b[0m: Wrong number of items passed 1, placement implies 13",
      "\nDuring handling of the above exception, another exception occurred:\n",
      "\u001b[0;31mValueError\u001b[0m                                Traceback (most recent call last)",
      "\u001b[1;32m/Users/alexanderblakesley/Sites/TubeSurfers_CodeBase/LineAnalysis.ipynb Cell 1\u001b[0m in \u001b[0;36m<cell line: 49>\u001b[0;34m()\u001b[0m\n\u001b[1;32m     <a href='vscode-notebook-cell:/Users/alexanderblakesley/Sites/TubeSurfers_CodeBase/LineAnalysis.ipynb#W0sZmlsZQ%3D%3D?line=44'>45</a>\u001b[0m                 pd\u001b[39m.\u001b[39mconcat(sortedDF, pd\u001b[39m.\u001b[39mDataFrame(node, columns\u001b[39m=\u001b[39mDataColumns))\n\u001b[1;32m     <a href='vscode-notebook-cell:/Users/alexanderblakesley/Sites/TubeSurfers_CodeBase/LineAnalysis.ipynb#W0sZmlsZQ%3D%3D?line=46'>47</a>\u001b[0m     df \u001b[39m=\u001b[39m sortedDF\n\u001b[0;32m---> <a href='vscode-notebook-cell:/Users/alexanderblakesley/Sites/TubeSurfers_CodeBase/LineAnalysis.ipynb#W0sZmlsZQ%3D%3D?line=48'>49</a>\u001b[0m OrderDataFrame(data1)\n\u001b[1;32m     <a href='vscode-notebook-cell:/Users/alexanderblakesley/Sites/TubeSurfers_CodeBase/LineAnalysis.ipynb#W0sZmlsZQ%3D%3D?line=49'>50</a>\u001b[0m OrderDataFrame(data2)\n",
      "\u001b[1;32m/Users/alexanderblakesley/Sites/TubeSurfers_CodeBase/LineAnalysis.ipynb Cell 1\u001b[0m in \u001b[0;36mOrderDataFrame\u001b[0;34m(df)\u001b[0m\n\u001b[1;32m     <a href='vscode-notebook-cell:/Users/alexanderblakesley/Sites/TubeSurfers_CodeBase/LineAnalysis.ipynb#W0sZmlsZQ%3D%3D?line=32'>33</a>\u001b[0m stationDF \u001b[39m=\u001b[39m stationDF\u001b[39m.\u001b[39mwhere(stationDF[\u001b[39m'\u001b[39m\u001b[39mStationTo\u001b[39m\u001b[39m'\u001b[39m] \u001b[39m==\u001b[39m tubeStop)\n\u001b[1;32m     <a href='vscode-notebook-cell:/Users/alexanderblakesley/Sites/TubeSurfers_CodeBase/LineAnalysis.ipynb#W0sZmlsZQ%3D%3D?line=34'>35</a>\u001b[0m \u001b[39mfor\u001b[39;00m node \u001b[39min\u001b[39;00m stationDF\u001b[39m.\u001b[39miterrows():\n\u001b[0;32m---> <a href='vscode-notebook-cell:/Users/alexanderblakesley/Sites/TubeSurfers_CodeBase/LineAnalysis.ipynb#W0sZmlsZQ%3D%3D?line=35'>36</a>\u001b[0m     pd\u001b[39m.\u001b[39mconcat(sortedDF, pd\u001b[39m.\u001b[39;49mDataFrame(node, columns\u001b[39m=\u001b[39;49mDataColumns))\n\u001b[1;32m     <a href='vscode-notebook-cell:/Users/alexanderblakesley/Sites/TubeSurfers_CodeBase/LineAnalysis.ipynb#W0sZmlsZQ%3D%3D?line=38'>39</a>\u001b[0m \u001b[39mif\u001b[39;00m (\u001b[39mlen\u001b[39m(orderedTubeStops) \u001b[39m<\u001b[39m idx):\n\u001b[1;32m     <a href='vscode-notebook-cell:/Users/alexanderblakesley/Sites/TubeSurfers_CodeBase/LineAnalysis.ipynb#W0sZmlsZQ%3D%3D?line=39'>40</a>\u001b[0m     between_stationDF \u001b[39m=\u001b[39m df\u001b[39m.\u001b[39mwhere(df[\u001b[39m'\u001b[39m\u001b[39mStationFrom\u001b[39m\u001b[39m'\u001b[39m] \u001b[39m==\u001b[39m tubeStop)\n",
      "File \u001b[0;32m~/opt/anaconda3/envs/TubeSurfersEnv/lib/python3.8/site-packages/pandas/core/frame.py:584\u001b[0m, in \u001b[0;36mDataFrame.__init__\u001b[0;34m(self, data, index, columns, dtype, copy)\u001b[0m\n\u001b[1;32m    582\u001b[0m         mgr \u001b[39m=\u001b[39m arrays_to_mgr(arrays, columns, index, columns, dtype\u001b[39m=\u001b[39mdtype)\n\u001b[1;32m    583\u001b[0m     \u001b[39melse\u001b[39;00m:\n\u001b[0;32m--> 584\u001b[0m         mgr \u001b[39m=\u001b[39m init_ndarray(data, index, columns, dtype\u001b[39m=\u001b[39;49mdtype, copy\u001b[39m=\u001b[39;49mcopy)\n\u001b[1;32m    585\u001b[0m \u001b[39melse\u001b[39;00m:\n\u001b[1;32m    586\u001b[0m     mgr \u001b[39m=\u001b[39m init_dict({}, index, columns, dtype\u001b[39m=\u001b[39mdtype)\n",
      "File \u001b[0;32m~/opt/anaconda3/envs/TubeSurfersEnv/lib/python3.8/site-packages/pandas/core/internals/construction.py:238\u001b[0m, in \u001b[0;36minit_ndarray\u001b[0;34m(values, index, columns, dtype, copy)\u001b[0m\n\u001b[1;32m    235\u001b[0m \u001b[39melse\u001b[39;00m:\n\u001b[1;32m    236\u001b[0m     block_values \u001b[39m=\u001b[39m [values]\n\u001b[0;32m--> 238\u001b[0m \u001b[39mreturn\u001b[39;00m create_block_manager_from_blocks(block_values, [columns, index])\n",
      "File \u001b[0;32m~/opt/anaconda3/envs/TubeSurfersEnv/lib/python3.8/site-packages/pandas/core/internals/managers.py:1687\u001b[0m, in \u001b[0;36mcreate_block_manager_from_blocks\u001b[0;34m(blocks, axes)\u001b[0m\n\u001b[1;32m   1685\u001b[0m blocks \u001b[39m=\u001b[39m [\u001b[39mgetattr\u001b[39m(b, \u001b[39m\"\u001b[39m\u001b[39mvalues\u001b[39m\u001b[39m\"\u001b[39m, b) \u001b[39mfor\u001b[39;00m b \u001b[39min\u001b[39;00m blocks]\n\u001b[1;32m   1686\u001b[0m tot_items \u001b[39m=\u001b[39m \u001b[39msum\u001b[39m(b\u001b[39m.\u001b[39mshape[\u001b[39m0\u001b[39m] \u001b[39mfor\u001b[39;00m b \u001b[39min\u001b[39;00m blocks)\n\u001b[0;32m-> 1687\u001b[0m \u001b[39mraise\u001b[39;00m construction_error(tot_items, blocks[\u001b[39m0\u001b[39m]\u001b[39m.\u001b[39mshape[\u001b[39m1\u001b[39m:], axes, e)\n",
      "\u001b[0;31mValueError\u001b[0m: Shape of passed values is (2, 1), indices imply (2, 13)"
     ]
    }
   ],
   "source": [
    "import urllib.request\n",
    "import json\n",
    "import pandas as pd\n",
    "\n",
    "TubeLine = \"bakerloo\"\n",
    "DataType = \"Pollution\"\n",
    "DataName1 = \"PM25\"\n",
    "DataName2 = \"HealthIndex\"\n",
    "\n",
    "BASE_URL = \"tubesurfers.co.uk\"\n",
    "\n",
    "DataColumns = ['DBid', 'Timestamp', 'Line', 'StationFrom', 'StationTo', 'IndexBetweenStations', 'DBid2', 'TimestampID', 'DataName', 'DataValue', 'DateType', 'Units', 'SensorID']\n",
    "\n",
    "URL = \"http://\" +BASE_URL+ \"/line_data/\" + TubeLine + \"/\" + DataType + \"/\" + DataName1\n",
    "data1 = pd.DataFrame(json.loads(urllib.request.urlopen(URL).read()), columns=DataColumns)\n",
    "\n",
    "URL = \"http://\" +BASE_URL+ \"/line_data/\" + TubeLine + \"/\" + DataType + \"/\" + DataName2\n",
    "data2 = pd.DataFrame(json.loads(urllib.request.urlopen(URL).read()), columns=DataColumns)\n",
    "\n",
    "def TidyDataFrame(df: pd.DataFrame):\n",
    "    df['DataValue'] = df['DataValue'].map(lambda val: float(val))\n",
    "\n",
    "TidyDataFrame(data1)\n",
    "TidyDataFrame(data2)\n",
    "\n",
    "orderedTubeStops = [\"Willesden Green\", \"Kensal Green\", \"Queen's Park\", \"Kilburn Park\",\"Maida Vale\", \"Warwick Avenue\", \"Paddington\", \"Edgware Road\", \"Marylebone\", \"Baker Street\", \"Regent's Park\", \"Oxford Circus\", \"Charing Cross\", \"Embankment\", \"Waterloo\", \"Lambeth North\", \"Elephant & Castle\"]\n",
    "\n",
    "def OrderDataFrame(df: pd.DataFrame):\n",
    "    sortedDF = pd.DataFrame([], columns=DataColumns)\n",
    "    for idx, tubeStop in enumerate(orderedTubeStops):\n",
    "        stationDF = df.where(df['StationFrom'] == tubeStop)\n",
    "        stationDF.dropna()\n",
    "        stationDF = stationDF.where(stationDF['StationTo'] == tubeStop)\n",
    "\n",
    "        for node in stationDF.iterrows():\n",
    "            pd.concat(sortedDF, pd.DataFrame(node, columns=DataColumns))\n",
    "\n",
    "\n",
    "        if (len(orderedTubeStops) < idx):\n",
    "            between_stationDF = df.where(df['StationFrom'] == tubeStop)\n",
    "            stationDF.dropna()\n",
    "            between_stationDF = between_stationDF.where(between_stationDF['StationTo'] == orderedTubeStops[idx+1])\n",
    "\n",
    "            for node in between_stationDF.iterrows():\n",
    "                pd.concat(sortedDF, pd.DataFrame(node, columns=DataColumns))\n",
    "\n",
    "    df = sortedDF\n",
    "\n",
    "OrderDataFrame(data1)\n",
    "OrderDataFrame(data2)"
   ]
  }
 ],
 "metadata": {
  "kernelspec": {
   "display_name": "Python 3.8.12 ('TubeSurfersEnv')",
   "language": "python",
   "name": "python3"
  },
  "language_info": {
   "codemirror_mode": {
    "name": "ipython",
    "version": 3
   },
   "file_extension": ".py",
   "mimetype": "text/x-python",
   "name": "python",
   "nbconvert_exporter": "python",
   "pygments_lexer": "ipython3",
   "version": "3.8.12"
  },
  "orig_nbformat": 4,
  "vscode": {
   "interpreter": {
    "hash": "d13f084882410ac2a4c631588b00f863f5c130bfe309b226addd9d83df47f1cf"
   }
  }
 },
 "nbformat": 4,
 "nbformat_minor": 2
}
