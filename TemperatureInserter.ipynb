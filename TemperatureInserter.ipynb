{
 "cells": [
  {
   "cell_type": "code",
   "execution_count": 5,
   "metadata": {},
   "outputs": [
    {
     "ename": "TypeError",
     "evalue": "strptime() argument 1 must be str, not float",
     "output_type": "error",
     "traceback": [
      "\u001b[0;31m---------------------------------------------------------------------------\u001b[0m",
      "\u001b[0;31mTypeError\u001b[0m                                 Traceback (most recent call last)",
      "\u001b[1;32m/code/TemperatureInserter.ipynb Cell 1'\u001b[0m in \u001b[0;36m<cell line: 28>\u001b[0;34m()\u001b[0m\n\u001b[1;32m     <a href='vscode-notebook-cell://attached-container%2B7b22636f6e7461696e65724e616d65223a222f54535f417070227d/code/TemperatureInserter.ipynb#ch0000000vscode-remote?line=25'>26</a>\u001b[0m TemperatureData[\u001b[39m'\u001b[39m\u001b[39mDP\u001b[39m\u001b[39m'\u001b[39m] \u001b[39m=\u001b[39m data[\u001b[39m'\u001b[39m\u001b[39mValue.5\u001b[39m\u001b[39m'\u001b[39m]\n\u001b[1;32m     <a href='vscode-notebook-cell://attached-container%2B7b22636f6e7461696e65724e616d65223a222f54535f417070227d/code/TemperatureInserter.ipynb#ch0000000vscode-remote?line=27'>28</a>\u001b[0m \u001b[39mfor\u001b[39;00m index, row \u001b[39min\u001b[39;00m TemperatureData\u001b[39m.\u001b[39miterrows():\n\u001b[0;32m---> <a href='vscode-notebook-cell://attached-container%2B7b22636f6e7461696e65724e616d65223a222f54535f417070227d/code/TemperatureInserter.ipynb#ch0000000vscode-remote?line=29'>30</a>\u001b[0m     TSData \u001b[39m=\u001b[39m Timestamp\u001b[39m.\u001b[39mGetClosest(ConvertDateTimeToTimestamp(row[\u001b[39m'\u001b[39;49m\u001b[39mTimestamp\u001b[39;49m\u001b[39m'\u001b[39;49m]))\n\u001b[1;32m     <a href='vscode-notebook-cell://attached-container%2B7b22636f6e7461696e65724e616d65223a222f54535f417070227d/code/TemperatureInserter.ipynb#ch0000000vscode-remote?line=30'>31</a>\u001b[0m     \u001b[39mif\u001b[39;00m (TSData \u001b[39m==\u001b[39m \u001b[39mNone\u001b[39;00m):\n\u001b[1;32m     <a href='vscode-notebook-cell://attached-container%2B7b22636f6e7461696e65724e616d65223a222f54535f417070227d/code/TemperatureInserter.ipynb#ch0000000vscode-remote?line=31'>32</a>\u001b[0m         \u001b[39mcontinue\u001b[39;00m;\n",
      "File \u001b[0;32m/code/core/utils/TimestampConverter.py:6\u001b[0m, in \u001b[0;36mConvertDateTimeToTimestamp\u001b[0;34m(DateTime)\u001b[0m\n\u001b[1;32m      <a href='file:///code/core/utils/TimestampConverter.py?line=4'>5</a>\u001b[0m \u001b[39mdef\u001b[39;00m \u001b[39mConvertDateTimeToTimestamp\u001b[39m(DateTime):\n\u001b[0;32m----> <a href='file:///code/core/utils/TimestampConverter.py?line=5'>6</a>\u001b[0m     \u001b[39mreturn\u001b[39;00m time\u001b[39m.\u001b[39mmktime(datetime\u001b[39m.\u001b[39;49mdatetime\u001b[39m.\u001b[39;49mstrptime(DateTime, \u001b[39m\"\u001b[39;49m\u001b[39m%d\u001b[39;49;00m\u001b[39m/\u001b[39;49m\u001b[39m%\u001b[39;49m\u001b[39mm/\u001b[39;49m\u001b[39m%\u001b[39;49m\u001b[39mY \u001b[39;49m\u001b[39m%\u001b[39;49m\u001b[39mH:\u001b[39;49m\u001b[39m%\u001b[39;49m\u001b[39mM:\u001b[39;49m\u001b[39m%\u001b[39;49m\u001b[39mS\u001b[39;49m\u001b[39m\"\u001b[39;49m)\u001b[39m.\u001b[39mtimetuple())\n",
      "\u001b[0;31mTypeError\u001b[0m: strptime() argument 1 must be str, not float"
     ]
    }
   ],
   "source": [
    "\n",
    "import pandas as pd\n",
    "from core.objects.Timestamp import Timestamp\n",
    "from core.objects.temperature.DP import DP\n",
    "from core.objects.temperature.WET import WET\n",
    "from core.objects.temperature.WBGT import WBGT\n",
    "from core.objects.temperature.TA import TA\n",
    "from core.objects.temperature.TG import TG\n",
    "from core.objects.temperature.Humidity import Humidity\n",
    "from core.utils.TimestampConverter import ConvertDateTimeToTimestamp\n",
    "\n",
    "data = pd.read_csv(\"data/temperature/Piccadilly_Hammersmith-ManorHouse.csv\")\n",
    "\n",
    "data = data.reset_index()  # make sure indexes pair with number of rows\n",
    "\n",
    "TubeLine = 'P'\n",
    "InsertDataToDB = False #Only set to true once file has been run, the TimeStamps DataFrame looks correct and no errors are thrown\n",
    "\n",
    "TemperatureData = pd.DataFrame()\n",
    "TemperatureData['Timestamp'] = data['Date'] + ' ' + data['Time']\n",
    "TemperatureData['WBGT'] = data['Value']\n",
    "TemperatureData['Humidity'] = data['Value.1']\n",
    "TemperatureData['TA'] = data['Value.2']\n",
    "TemperatureData['TG'] = data['Value.3']\n",
    "TemperatureData['WET'] = data['Value.4']\n",
    "TemperatureData['DP'] = data['Value.5']\n",
    "\n",
    "for index, row in TemperatureData.iterrows():\n",
    "\n",
    "    TSData = Timestamp.GetClosest(ConvertDateTimeToTimestamp(row['Timestamp']))\n",
    "    if (TSData == None):\n",
    "        continue;\n",
    "\n",
    "    TSid = TSData[0]\n",
    "\n",
    "    dp = DP(TSid, row['DP'])\n",
    "    if InsertDataToDB:\n",
    "        dp.insert()\n",
    "\n",
    "    wet = WET(TSid, row['WET'])\n",
    "    if InsertDataToDB:\n",
    "        wet.insert()\n",
    "\n",
    "    ta = TA(TSid, row['TA'])\n",
    "    if InsertDataToDB:\n",
    "        ta.insert()\n",
    "\n",
    "    tg = TG(TSid, row['TG'])\n",
    "    if InsertDataToDB:\n",
    "        tg.insert()\n",
    "\n",
    "    wbgt = WBGT(TSid, row['WBGT'])\n",
    "    if InsertDataToDB:\n",
    "        wbgt.insert()\n",
    "\n",
    "    humidity = Humidity(TSid, row['Humidity'])\n",
    "    if InsertDataToDB:\n",
    "        humidity.insert()"
   ]
  }
 ],
 "metadata": {
  "interpreter": {
   "hash": "949777d72b0d2535278d3dc13498b2535136f6dfe0678499012e853ee9abcab1"
  },
  "kernelspec": {
   "display_name": "Python 3.8.13 64-bit",
   "language": "python",
   "name": "python3"
  },
  "language_info": {
   "codemirror_mode": {
    "name": "ipython",
    "version": 3
   },
   "file_extension": ".py",
   "mimetype": "text/x-python",
   "name": "python",
   "nbconvert_exporter": "python",
   "pygments_lexer": "ipython3",
   "version": "3.8.13"
  },
  "orig_nbformat": 4
 },
 "nbformat": 4,
 "nbformat_minor": 2
}
